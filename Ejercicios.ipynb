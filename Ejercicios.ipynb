{
 "cells": [
  {
   "cell_type": "code",
   "execution_count": 10,
   "metadata": {},
   "outputs": [],
   "source": [
    "def ejecrcicio1():\n",
    "    edad = int(input(\"Porfavor ingrese su edad: \"))\n",
    "    if edad >= 18:\n",
    "        return \"Puede tomar cerveza\"\n",
    "    else:\n",
    "        return \"No puede tomar cerveza\""
   ]
  },
  {
   "cell_type": "code",
   "execution_count": 14,
   "metadata": {},
   "outputs": [],
   "source": [
    "def ejecrcicio1_1(edad : int):\n",
    "    # = int(input(\"Porfavor ingrese su edad: \"))\n",
    "    if edad >= 18:\n",
    "        return \"Puede tomar cerveza\"\n",
    "    else:\n",
    "        return \"No puede tomar cerveza\""
   ]
  },
  {
   "cell_type": "code",
   "execution_count": 15,
   "metadata": {},
   "outputs": [
    {
     "name": "stdout",
     "output_type": "stream",
     "text": [
      "Puede tomar cerveza\n"
     ]
    }
   ],
   "source": [
    "print(ejecrcicio1_1(18))"
   ]
  },
  {
   "cell_type": "code",
   "execution_count": null,
   "metadata": {},
   "outputs": [],
   "source": [
    "marca = input(\"Ingrese la marca: \").lower()\n",
    "if marca == \"budweiser\": #LOWER se utiliza para pasar la informacion a minuscula\n",
    "    print(\"Compro\",marca)\n",
    "elif marca == \"aguila\":\n",
    "    print(\"Compro\",marca)\n",
    "else:\n",
    "    print(\"No compro nada\")"
   ]
  },
  {
   "cell_type": "code",
   "execution_count": null,
   "metadata": {},
   "outputs": [],
   "source": [
    "giro = \"carrera 9\"\n",
    "if giro == \"carrera 9\":\n",
    "    print(\"Girar en la \\n\\n\", giro)\n",
    "if giro == \"carrera 10\":\n",
    "    print(\"Girar en la \\n\\n\", giro)\n",
    "if giro == \"carrera 11\":\n",
    "    print(\"Girar en la \\n\\n\", giro)    "
   ]
  },
  {
   "cell_type": "code",
   "execution_count": 3,
   "metadata": {},
   "outputs": [
    {
     "name": "stdout",
     "output_type": "stream",
     "text": [
      "Ingrese el numero A: hj\n"
     ]
    },
    {
     "ename": "ValueError",
     "evalue": "could not convert string to float: 'hj'",
     "output_type": "error",
     "traceback": [
      "\u001b[1;31m---------------------------------------------------------------------------\u001b[0m",
      "\u001b[1;31mValueError\u001b[0m                                Traceback (most recent call last)",
      "\u001b[1;32m<ipython-input-3-c2159578d9b3>\u001b[0m in \u001b[0;36m<module>\u001b[1;34m\u001b[0m\n\u001b[1;32m----> 1\u001b[1;33m \u001b[0ma\u001b[0m \u001b[1;33m=\u001b[0m \u001b[0mfloat\u001b[0m\u001b[1;33m(\u001b[0m\u001b[0minput\u001b[0m\u001b[1;33m(\u001b[0m\u001b[1;34m\"Ingrese el numero A: \"\u001b[0m\u001b[1;33m)\u001b[0m\u001b[1;33m)\u001b[0m\u001b[1;33m\u001b[0m\u001b[1;33m\u001b[0m\u001b[0m\n\u001b[0m\u001b[0;32m      2\u001b[0m \u001b[0mb\u001b[0m \u001b[1;33m=\u001b[0m \u001b[0mfloat\u001b[0m\u001b[1;33m(\u001b[0m\u001b[0minput\u001b[0m\u001b[1;33m(\u001b[0m\u001b[1;34m\"Ingrese el numero B: \"\u001b[0m\u001b[1;33m)\u001b[0m\u001b[1;33m)\u001b[0m\u001b[1;33m\u001b[0m\u001b[1;33m\u001b[0m\u001b[0m\n\u001b[0;32m      3\u001b[0m \u001b[0mopc\u001b[0m\u001b[1;33m=\u001b[0m \u001b[0minput\u001b[0m\u001b[1;33m(\u001b[0m\u001b[1;34m\"Ingrese la operacion: \"\u001b[0m\u001b[1;33m)\u001b[0m\u001b[1;33m\u001b[0m\u001b[1;33m\u001b[0m\u001b[0m\n\u001b[0;32m      4\u001b[0m \u001b[1;33m\u001b[0m\u001b[0m\n\u001b[0;32m      5\u001b[0m \u001b[1;32mif\u001b[0m \u001b[0mopc\u001b[0m \u001b[1;33m==\u001b[0m \u001b[1;34m'+'\u001b[0m\u001b[1;33m:\u001b[0m\u001b[1;33m\u001b[0m\u001b[1;33m\u001b[0m\u001b[0m\n",
      "\u001b[1;31mValueError\u001b[0m: could not convert string to float: 'hj'"
     ]
    }
   ],
   "source": [
    "a = float(input(\"Ingrese el numero A: \"))\n",
    "b = float(input(\"Ingrese el numero B: \"))\n",
    "opc= input(\"Ingrese la operacion: \")\n",
    "\n",
    "if opc == '+':\n",
    "    c = a + b\n",
    "    print(c)\n",
    "if opc == '-':\n",
    "    c = a - b\n",
    "    print(c)\n",
    "if opc == '*':\n",
    "    c = a * b\n",
    "    print(c)\n",
    "if opc == '/':\n",
    "    if b != 0 :\n",
    "        c = a / b\n",
    "        print(c)\n",
    "    else:\n",
    "        print(\"error\")    \n"
   ]
  },
  {
   "cell_type": "code",
   "execution_count": null,
   "metadata": {},
   "outputs": [],
   "source": []
  },
  {
   "cell_type": "code",
   "execution_count": null,
   "metadata": {},
   "outputs": [],
   "source": []
  }
 ],
 "metadata": {
  "kernelspec": {
   "display_name": "Python 3",
   "language": "python",
   "name": "python3"
  },
  "language_info": {
   "codemirror_mode": {
    "name": "ipython",
    "version": 3
   },
   "file_extension": ".py",
   "mimetype": "text/x-python",
   "name": "python",
   "nbconvert_exporter": "python",
   "pygments_lexer": "ipython3",
   "version": "3.7.4"
  }
 },
 "nbformat": 4,
 "nbformat_minor": 2
}
